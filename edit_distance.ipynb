{
  "nbformat": 4,
  "nbformat_minor": 0,
  "metadata": {
    "colab": {
      "provenance": [],
      "authorship_tag": "ABX9TyN7Fc4Z0Me/crKn082xNVk9",
      "include_colab_link": true
    },
    "kernelspec": {
      "name": "python3",
      "display_name": "Python 3"
    },
    "language_info": {
      "name": "python"
    }
  },
  "cells": [
    {
      "cell_type": "markdown",
      "metadata": {
        "id": "view-in-github",
        "colab_type": "text"
      },
      "source": [
        "<a href=\"https://colab.research.google.com/github/azulMarjimenz/Edit_Distance_Calculator-/blob/main/edit_distance.ipynb\" target=\"_parent\"><img src=\"https://colab.research.google.com/assets/colab-badge.svg\" alt=\"Open In Colab\"/></a>"
      ]
    },
    {
      "cell_type": "code",
      "execution_count": null,
      "metadata": {
        "colab": {
          "base_uri": "https://localhost:8080/"
        },
        "id": "224HLk3u2z7Y",
        "outputId": "bc3f2c8b-08f0-41b3-d493-3d59ff768bed"
      },
      "outputs": [
        {
          "output_type": "stream",
          "name": "stdout",
          "text": [
            " Welcome to Edit Distance Demonstration.* \n",
            " Please input two words for the edit distance \n",
            "Enter your first word: evaluation\n",
            "evaluation\n",
            "Enter your second word: elution\n",
            "elution\n",
            "The Matrix:\n",
            "[0, 1, 2, 3, 4, 5, 6, 7]\n",
            "[1, 0, 1, 2, 3, 4, 5, 6]\n",
            "[2, 1, 1, 2, 3, 4, 5, 6]\n",
            "[3, 2, 2, 2, 3, 4, 5, 6]\n",
            "[4, 3, 2, 3, 3, 4, 5, 6]\n",
            "[5, 4, 3, 2, 3, 4, 5, 6]\n",
            "[6, 5, 4, 3, 3, 4, 5, 6]\n",
            "[7, 6, 5, 4, 3, 4, 5, 6]\n",
            "[8, 7, 6, 5, 4, 3, 4, 5]\n",
            "[9, 8, 7, 6, 5, 4, 3, 4]\n",
            "[10, 9, 8, 7, 6, 5, 4, 3]\n",
            "The edit distance is 3 :\n",
            "evaluation\n",
            "e--lu-tion\n"
          ]
        }
      ],
      "source": [
        "# Program Name: Edit Distance Demonstration\n",
        "# Project Description: This program calculates the edit distance \n",
        "    #between two words and output both the matrix of distance\n",
        "    #calculation and an alignment that demonstrates the result \n",
        "    \n",
        "# Author: Azucena L. Jimenez Martinez \n",
        "# Last 4 CWID: 3325\n",
        "# Class: CPSC 485, Dr. Wang  \n",
        "\n",
        "# How to run: \n",
        "#This program was created using python in a google colab notebook. \n",
        "#The file [ edit_distance.ipynb ] can be ran online wihtout the need of \n",
        "#installation or dependencies through google colab at: \n",
        "#https://colab.research.google.com/drive/1LHN0bzyPX3nxrYv2rOlnpT7csTObfXJK?usp=sharing\n",
        "\n",
        "\n",
        "\n",
        "def edit_distance(word1, word2): \n",
        "\n",
        "  # Here we initialize the matrix with zeros\n",
        "    distance_matrix = [[0 for _ in range(len(word2)+1)] for _ in range(len(word1)+1)]\n",
        "    \n",
        "  # Fill the first row and first column with indices\n",
        "    for i in range(len(word1)+1):\n",
        "        distance_matrix[i][0] = i\n",
        "    for j in range(len(word2)+1):\n",
        "        distance_matrix[0][j] = j \n",
        "\n",
        "        \n",
        "  # The rest of the matrix is then filled \n",
        "    for i in range(1, len(word1)+1):\n",
        "        for j in range(1, len(word2)+1):\n",
        "            if word1[i-1] == word2[j-1]:\n",
        "                # If the characters match\n",
        "                distance_matrix[i][j] = distance_matrix[i-1][j-1]\n",
        "            else:\n",
        "                # The operation with the smallest cost will be chosen \n",
        "                deletion = distance_matrix[i-1][j] + 1\n",
        "                insertion = distance_matrix[i][j-1] + 1\n",
        "                substitution = distance_matrix[i-1][j-1] + 1\n",
        "                distance_matrix[i][j] = min(deletion, insertion, substitution) \n",
        "          \n",
        "    \n",
        "  # Calculating the minimum edit distance\n",
        "    min_distance = distance_matrix[-1][-1] \n",
        "    \n",
        "    \n",
        "    print(\"The Matrix:\")\n",
        "    for row in distance_matrix:\n",
        "        print(row)   \n",
        "        \n",
        "  # Calcualte alignment based on distance\n",
        "    alignment = []\n",
        "    i = len(word1)\n",
        "    j = len(word2)\n",
        "    while i > 0 or j > 0:\n",
        "        if i > 0 and distance_matrix[i][j] == distance_matrix[i-1][j] + 1:\n",
        "            alignment.append((word1[i-1], \"-\"))\n",
        "            i -= 1\n",
        "        elif j > 0 and distance_matrix[i][j] == distance_matrix[i][j-1] + 1:\n",
        "            alignment.append((\"-\", word2[j-1]))\n",
        "            j -= 1\n",
        "        else:\n",
        "            alignment.append((word1[i-1], word2[j-1]))\n",
        "            i -= 1\n",
        "            j -= 1\n",
        "    alignment.reverse()  \n",
        "    \n",
        "  # Output the edit distance and the alignment \n",
        "    print(\"The edit distance is\", min_distance, \":\")\n",
        "    for pair in alignment:\n",
        "        print(pair[0], end=\"\")\n",
        "    print()\n",
        "    for pair in alignment:\n",
        "        print(pair[1], end=\"\")\n",
        "    print()\n",
        "\n",
        "#User inputs 2 words of thier choice   \n",
        "print(\" Welcome to Edit Distance Demonstration.* \")  \n",
        "print(\" Please input two words for the edit distance \")\n",
        "word1 = input(\"Enter your first word: \") \n",
        "print(word1)\n",
        "word2 = input(\"Enter your second word: \")\n",
        "print(word2)    \n",
        "\n",
        "edit_distance(word1, word2)"
      ]
    }
  ]
}